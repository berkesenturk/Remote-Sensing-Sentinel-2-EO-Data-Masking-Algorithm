{
 "metadata": {
  "language_info": {
   "codemirror_mode": {
    "name": "ipython",
    "version": 3
   },
   "file_extension": ".py",
   "mimetype": "text/x-python",
   "name": "python",
   "nbconvert_exporter": "python",
   "pygments_lexer": "ipython3",
   "version": "3.8.7-final"
  },
  "orig_nbformat": 2,
  "kernelspec": {
   "name": "python3",
   "display_name": "Python 3.8.7 64-bit",
   "metadata": {
    "interpreter": {
     "hash": "3c401ad1f1bb32a229f43b330fb0c4650f4d65b6aadebb72d619a5ddf8b4d0a9"
    }
   }
  }
 },
 "nbformat": 4,
 "nbformat_minor": 2,
 "cells": [
  {
   "cell_type": "code",
   "execution_count": null,
   "metadata": {},
   "outputs": [],
   "source": [
    "import matplotlib.pyplot as plt\n",
    "from skimage import *\n",
    "import numpy as np\n",
    "from skimage.viewer import ImageViewer\n",
    "from tifffile import * \n",
    "import matplotlib.patches as mpatches   "
   ]
  },
  {
   "cell_type": "code",
   "execution_count": null,
   "metadata": {},
   "outputs": [],
   "source": [
    "red =io.imread('tiffiles/B4.tif')\n",
    "nir = io.imread('tiffiles/B5.tif')\n",
    "# X,Y size of images \n",
    "print(\"Size of Red Band: \",red.shape)\n",
    "print(\"Size of Red Band: \",nir.shape)"
   ]
  },
  {
   "cell_type": "code",
   "execution_count": null,
   "metadata": {},
   "outputs": [],
   "source": [
    "#Pixel values of Red Band which is 4th band of the Landsat 8 image\n",
    "values = np.unique(red.ravel())\n",
    "values"
   ]
  },
  {
   "cell_type": "code",
   "execution_count": null,
   "metadata": {},
   "outputs": [],
   "source": [
    "#Pixel values of NIR Band which is 5th band of the Landsat 8 image\n",
    "values = np.unique(nir.ravel())\n",
    "values"
   ]
  },
  {
   "cell_type": "code",
   "execution_count": null,
   "metadata": {},
   "outputs": [],
   "source": [
    "#Plotting of Red Band\n",
    "plt.title(\"Red Band of Landsat 8 image\")\n",
    "plt.xlabel(\"X coordinates\")\n",
    "plt.ylabel(\"Y coordinates\")\n",
    "plt.imshow(red)\n",
    "plt.show()"
   ]
  },
  {
   "cell_type": "code",
   "execution_count": null,
   "metadata": {},
   "outputs": [],
   "source": [
    "#Plotting of NIR Band\n",
    "plt.title(\"NIR Band of Landsat 8 image\")\n",
    "plt.xlabel(\"X coordinates\")\n",
    "plt.ylabel(\"Y coordinates\")\n",
    "plt.imshow(nir)\n",
    "plt.show()"
   ]
  },
  {
   "cell_type": "code",
   "execution_count": null,
   "metadata": {},
   "outputs": [],
   "source": [
    "# Calculating NDVI for each input pixels\n",
    "ndvi = (nir - red)/ (nir + red)\n",
    "print(\"Data type: \",ndvi.dtype)\n",
    "print(\"max before cleaning: \",ndvi.max())\n",
    "print(\"min before cleaning: \",ndvi.min())\n",
    "\n",
    "#Cleaning NaN\n",
    "ndvi= np.nan_to_num(ndvi)\n",
    "\n",
    "print(\"max after cleaning: \",ndvi.max())\n",
    "print(\"min after cleaning: \",ndvi.min())\n"
   ]
  },
  {
   "cell_type": "code",
   "execution_count": null,
   "metadata": {},
   "outputs": [],
   "source": [
    "res = (ndvi*255).astype('uint8')\n",
    "print(\"Data type: \",res.dtype)\n",
    "print(\"max before cleaning: \",res.max())\n",
    "print(\"min before cleaning: \",res.min())\n",
    "\n",
    "res"
   ]
  },
  {
   "cell_type": "code",
   "execution_count": null,
   "metadata": {},
   "outputs": [],
   "source": [
    "img = res[:, :, 1]\n",
    "print(img.shape)\n",
    "values = np.unique(img.ravel())\n",
    "values\n"
   ]
  },
  {
   "source": [
    "# Plotting of the result map\n",
    "\"\"\"interaktif yap ilk ve son nasıl yan yana oluyo subplot muhtemelen\"\"\"\n",
    "\"\"\"su alanları mask nasıl olacak!!!!\"\"\"\n",
    "plt.title(\"NDVI Map\\n of\\n Landsat 8 Satellite Imagery\")\n",
    "plt.xlabel(\"Y coordinates\")\n",
    "plt.ylabel(\"X coordinates\")\n",
    "plt.imshow(img,cmap='PiYG',vmin=0,vmax=255)\n",
    "plt.show()\n",
    "plt.savefig('outputs/output.png')"
   ],
   "cell_type": "code",
   "metadata": {},
   "execution_count": null,
   "outputs": []
  },
  {
   "cell_type": "code",
   "execution_count": null,
   "metadata": {},
   "outputs": [],
   "source": []
  }
 ]
}